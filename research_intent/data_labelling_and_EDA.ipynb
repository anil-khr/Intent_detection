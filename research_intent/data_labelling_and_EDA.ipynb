{
 "cells": [
  {
   "cell_type": "code",
   "execution_count": 80,
   "id": "22bf0dd3",
   "metadata": {},
   "outputs": [
    {
     "data": {
      "application/vnd.jupyter.widget-view+json": {
       "model_id": "9c772cb801a148d49eb811939352db71",
       "version_major": 2,
       "version_minor": 0
      },
      "text/plain": [
       "0it [00:00, ?it/s]"
      ]
     },
     "metadata": {},
     "output_type": "display_data"
    },
    {
     "name": "stdout",
     "output_type": "stream",
     "text": [
      "\n",
      "intents:\n",
      "{'battery': ['battery', 'power'], 'forgot_password': ['password', 'account', 'login'], 'payment': ['credit', 'card', 'payment', 'pay'], 'repair': ['repair', 'fix', 'broken'], 'update': ['update']}\n",
      "\n",
      "processed:\n",
      "0       [new, update, make, sure, download, yesterday]\n",
      "2                [try, reset, setting, restart, phone]\n",
      "4                                  [iphone, plus, yes]\n",
      "5                                [need, answer, annoy]\n",
      "6    [hey, anyone, else, upgraded, issue, capital, ...\n",
      "Name: inbound_text, dtype: object\n"
     ]
    }
   ],
   "source": [
    "import warnings\n",
    "warnings.filterwarnings('ignore')\n",
    "import pandas as pd\n",
    "import numpy as np\n",
    "\n",
    "from sklearn.feature_extraction.text import CountVectorizer\n",
    "from sklearn.feature_extraction.text import TfidfVectorizer\n",
    "import gensim\n",
    "\n",
    "\n",
    "from nltk.tokenize import word_tokenize \n",
    "from nltk.tokenize import TweetTokenizer\n",
    "from gensim.test.utils import common_texts\n",
    "from gensim.models.doc2vec import Doc2Vec, TaggedDocument\n",
    "from gensim.test.utils import get_tmpfile\n",
    "\n",
    "from tempfile import mkdtemp\n",
    "import pickle\n",
    "import joblib\n",
    "\n",
    "import seaborn as sns\n",
    "import matplotlib.pyplot as plt\n",
    "sns.set(style=\"ticks\", color_codes=True)\n",
    "\n",
    "import os\n",
    "import yaml\n",
    "import collections\n",
    "import scattertext as st\n",
    "import math\n",
    "\n",
    "from tqdm import tqdm_notebook as tqdm\n",
    "tqdm().pandas() \n",
    "\n",
    "with open('data_pickle','rb') as file:\n",
    "    processed = pickle.load(file)\n",
    "\n",
    "\n",
    "with open(r'intents.yml') as file:\n",
    "    intents = yaml.load(file, Loader=yaml.FullLoader)\n",
    "\n",
    "\n",
    "print(f'\\nintents:\\n{intents}')\n",
    "print(f'\\nprocessed:\\n{processed.head()}')"
   ]
  },
  {
   "cell_type": "code",
   "execution_count": 2,
   "id": "bc84fe40",
   "metadata": {},
   "outputs": [
    {
     "name": "stdout",
     "output_type": "stream",
     "text": [
      "INTENTS FOR KEYWORD EDA BELOW:\n",
      " ------------------------\n",
      "Intent: update \n",
      "   Keywords: update\n",
      "Intent: battery \n",
      "   Keywords: battery + power\n",
      "Intent: forgot_password \n",
      "   Keywords: password + account + login\n",
      "Intent: repair \n",
      "   Keywords: repair + fix + broken\n",
      "Intent: payment \n",
      "   Keywords: credit + card + payment + pay\n"
     ]
    }
   ],
   "source": [
    "intents = {\"Greeting\": [\"Hi there!\",\"Hello\"], \n",
    " \"Closing\":\"Thanks for talking\", \n",
    " \"Promotion\":\"\",\n",
    "           \"Scenarios\": {'Last payment': \"\", \"Account details\":\"\", \n",
    "                         \"Account confirmation\": \"\"},\n",
    "    \"Location\": \"\"}\n",
    "\n",
    "\n",
    "intents = {'greeting': ['hi', 'hello', 'hey','yo'], 'app': ['app', 'application'],\n",
    "          'iphone': ['iphone', 'i phone'], 'icloud': ['icloud', 'i cloud'],\n",
    "          'ios': ['io'], 'battery': ['battery'], 'watch': ['watch'], 'mac': \n",
    "           ['mac', 'macbook', 'laptop', 'computer'], 'update': ['update'],\n",
    "          'troubleshooting': ['problem', 'trouble', 'error'],\n",
    "          'settings': ['settings', 'setting'], 'music': ['music', 'song', 'playlist'],\n",
    "          'payment': ['credit','card','payment','pay'], 'bug':['bug'], 'watch': ['tv', 'show'],\n",
    "          'network': ['internet','connection','network']}\n",
    "\n",
    "intents_all = {'ios update': ['io', 'update'], 'app update': ['app','update']}\n",
    "\n",
    "\n",
    "intents = {'update': ['update'], 'battery': ['battery', 'power'], 'forgot_password':['password','account','login'],\n",
    "          'repair':['repair','fix','broken'],  \n",
    "           'payment': ['credit','card','payment','pay']}\n",
    "\n",
    "    \n",
    "\n",
    "with open('intents.yml', 'w') as outfile:\n",
    "    yaml.dump(intents, outfile, default_flow_style=False)\n",
    "\n",
    "print('INTENTS FOR KEYWORD EDA BELOW:\\n ------------------------')\n",
    "for i in intents.items():\n",
    "    print('Intent: {} \\n   Keywords: {}'.format(i[0], \" + \".join(i[1])))"
   ]
  },
  {
   "cell_type": "code",
   "execution_count": 3,
   "id": "3137e424",
   "metadata": {},
   "outputs": [
    {
     "name": "stdout",
     "output_type": "stream",
     "text": [
      "Converting to string...\n"
     ]
    },
    {
     "data": {
      "application/vnd.jupyter.widget-view+json": {
       "model_id": "6d6a9b6533fc4c21a96d2db92f16feef",
       "version_major": 2,
       "version_minor": 0
      },
      "text/plain": [
       "  0%|          | 0/95947 [00:00<?, ?it/s]"
      ]
     },
     "metadata": {},
     "output_type": "display_data"
    },
    {
     "data": {
      "text/plain": [
       "0              new update make sure download yesterday\n",
       "2                      try reset setting restart phone\n",
       "4                                      iphone plus yes\n",
       "5                                    need answer annoy\n",
       "6    hey anyone else upgraded issue capital mail ap...\n",
       "                           ...                        \n",
       "1                               password account login\n",
       "2                              credit card payment pay\n",
       "3                                       update upgrade\n",
       "4                                     info information\n",
       "5                         nearest apple location store\n",
       "Length: 95953, dtype: object"
      ]
     },
     "execution_count": 3,
     "metadata": {},
     "output_type": "execute_result"
    }
   ],
   "source": [
    "ideal = {'Greeting': 'hi hello yo hey whats up howdy morning',\n",
    "        'Update': 'have problem with update'}\n",
    "\n",
    "ideal = {'battery': 'battery power', \n",
    "         'forgot_password': 'password account login',\n",
    "         'payment': 'credit card payment pay',\n",
    "         'update': 'update upgrade',\n",
    "         'info': 'info information',\n",
    "         'location': 'nearest apple location store'\n",
    "        }\n",
    "\n",
    "def add_extra(current_tokenized_data, extra_tweets):\n",
    "    \n",
    "    extra_tweets = pd.Series(extra_tweets)\n",
    "\n",
    "\n",
    "    print('Converting to string...')\n",
    "    string_processed_data = current_tokenized_data.progress_apply(\" \".join)\n",
    "\n",
    "\n",
    "    string_processed_data = pd.concat([string_processed_data, extra_tweets], axis = 0)\n",
    "\n",
    "\n",
    "    tknzr = TweetTokenizer(strip_handles = True, reduce_len = True)\n",
    "\n",
    "    return string_processed_data\n",
    "\n",
    "\n",
    "processed_inbound_extra = add_extra(processed, list(ideal.values()))\n",
    "\n",
    "with open('processed_inbound_extra','wb') as file:\n",
    "    pickle.dump(processed_inbound_extra,file)\n",
    "\n",
    "\n",
    "processed_inbound_extra"
   ]
  },
  {
   "cell_type": "code",
   "execution_count": 4,
   "id": "62d3a5a0",
   "metadata": {},
   "outputs": [
    {
     "name": "stdout",
     "output_type": "stream",
     "text": [
      "iteration 0\n",
      "iteration 1\n",
      "iteration 2\n",
      "iteration 3\n",
      "iteration 4\n",
      "iteration 5\n",
      "iteration 6\n",
      "iteration 7\n",
      "iteration 8\n",
      "iteration 9\n",
      "iteration 10\n",
      "iteration 11\n",
      "iteration 12\n",
      "iteration 13\n",
      "iteration 14\n",
      "iteration 15\n",
      "iteration 16\n",
      "iteration 17\n",
      "iteration 18\n",
      "iteration 19\n",
      "iteration 20\n",
      "iteration 21\n",
      "iteration 22\n",
      "iteration 23\n",
      "iteration 24\n",
      "iteration 25\n",
      "iteration 26\n",
      "iteration 27\n",
      "iteration 28\n",
      "iteration 29\n",
      "iteration 30\n",
      "iteration 31\n",
      "iteration 32\n",
      "iteration 33\n",
      "iteration 34\n",
      "iteration 35\n",
      "iteration 36\n",
      "iteration 37\n",
      "iteration 38\n",
      "iteration 39\n",
      "iteration 40\n",
      "iteration 41\n",
      "iteration 42\n",
      "iteration 43\n",
      "iteration 44\n",
      "iteration 45\n",
      "iteration 46\n",
      "iteration 47\n",
      "iteration 48\n",
      "iteration 49\n",
      "iteration 50\n",
      "iteration 51\n",
      "iteration 52\n",
      "iteration 53\n",
      "iteration 54\n",
      "iteration 55\n",
      "iteration 56\n",
      "iteration 57\n",
      "iteration 58\n",
      "iteration 59\n",
      "iteration 60\n",
      "iteration 61\n",
      "iteration 62\n",
      "iteration 63\n",
      "iteration 64\n",
      "iteration 65\n",
      "iteration 66\n",
      "iteration 67\n",
      "iteration 68\n",
      "iteration 69\n",
      "iteration 70\n",
      "iteration 71\n",
      "iteration 72\n",
      "iteration 73\n",
      "iteration 74\n",
      "iteration 75\n",
      "iteration 76\n",
      "iteration 77\n",
      "iteration 78\n",
      "iteration 79\n",
      "iteration 80\n",
      "iteration 81\n",
      "iteration 82\n",
      "iteration 83\n",
      "iteration 84\n",
      "iteration 85\n",
      "iteration 86\n",
      "iteration 87\n",
      "iteration 88\n",
      "iteration 89\n",
      "iteration 90\n",
      "iteration 91\n",
      "iteration 92\n",
      "iteration 93\n",
      "iteration 94\n",
      "iteration 95\n",
      "iteration 96\n",
      "iteration 97\n",
      "iteration 98\n",
      "iteration 99\n",
      "Model Saved\n"
     ]
    }
   ],
   "source": [
    "def train_doc2vec(string_data, size, max_epochs, alpha):\n",
    "    tagged_data = [TaggedDocument(words=word_tokenize(_d.lower()), tags=[str(i)]) \n",
    "                   for i, _d in enumerate(string_data)]\n",
    "    \n",
    "\n",
    "    model = Doc2Vec(vector_size=size, alpha=alpha, min_alpha=0.00025, min_count=1, dm =1)\n",
    "\n",
    "    model.build_vocab(tagged_data)\n",
    "\n",
    "    for epoch in range(max_epochs):\n",
    "        print('iteration {0}'.format(epoch))\n",
    "        model.train(tagged_data, total_examples = model.corpus_count, epochs=model.epochs)\n",
    "        # Decrease the learning rate\n",
    "        model.alpha -= 0.0002\n",
    "        # Fix the learning rate, no decay\n",
    "        model.min_alpha = model.alpha\n",
    "\n",
    "    model.save(\"models_d2v.model\")\n",
    "    print(\"Model Saved\")\n",
    "    \n",
    "# Training\n",
    "model_d2 = train_doc2vec(processed_inbound_extra, size=20, max_epochs = 100, alpha = 0.025)"
   ]
  },
  {
   "cell_type": "code",
   "execution_count": 81,
   "id": "3ee9e41e",
   "metadata": {},
   "outputs": [
    {
     "data": {
      "text/plain": [
       "array([[ 5.0641046 ,  1.4197416 ,  2.1003623 , ...,  3.5559633 ,\n",
       "         0.55405766,  2.343097  ],\n",
       "       [ 4.2523437 , -0.99684983, -3.3814054 , ...,  0.8392665 ,\n",
       "        -0.3987645 , -1.3247259 ],\n",
       "       [ 2.374191  ,  0.91276926, -3.1392078 , ...,  2.6551425 ,\n",
       "        -2.6853771 , -1.4280274 ],\n",
       "       ...,\n",
       "       [ 1.8137497 ,  0.20235905,  0.04238406, ...,  1.1797376 ,\n",
       "        -0.7937871 ,  2.046361  ],\n",
       "       [ 0.33542138,  0.22287495, -0.96385306, ..., -0.3955763 ,\n",
       "         0.4005592 , -2.5793915 ],\n",
       "       [ 3.9392512 ,  2.932683  , -1.0454297 , ..., -2.630516  ,\n",
       "         0.98472685, -0.6960147 ]], dtype=float32)"
      ]
     },
     "execution_count": 81,
     "metadata": {},
     "output_type": "execute_result"
    }
   ],
   "source": [
    "model = Doc2Vec.load(\"models_d2v.model\")\n",
    "\n",
    "inbound_d2v = np.array([model.docvecs[i] for i in range(processed_inbound_extra.shape[0])])\n",
    "\n",
    "with open('inbound_d2v.pkl', 'wb') as f:\n",
    "    pickle.dump(inbound_d2v, f)\n",
    "\n",
    "inbound_d2v"
   ]
  },
  {
   "cell_type": "code",
   "execution_count": 7,
   "id": "5d21849f",
   "metadata": {},
   "outputs": [
    {
     "data": {
      "text/plain": [
       "(95953, 20)"
      ]
     },
     "execution_count": 7,
     "metadata": {},
     "output_type": "execute_result"
    }
   ],
   "source": [
    "inbound_d2v.shape"
   ]
  },
  {
   "cell_type": "code",
   "execution_count": 8,
   "id": "dc3ed748",
   "metadata": {},
   "outputs": [],
   "source": [
    "intents_repr = {'Battery': ['io', 'drain', 'battery', 'iphone', 'twice', 'fast', 'io', 'help'],\n",
    "    'Update': ['new', 'update', 'i️', 'make', 'sure', 'download', 'yesterday'],\n",
    "    'iphone': ['instal', 'io', 'make', 'iphone', 'slow', 'work', 'properly', 'help'],\n",
    "    'app': ['app', 'still', 'longer', 'able', 'control', 'lockscreen'],\n",
    "    'mac': ['help','mac','app','store','open','can','not','update','macbook','pro','currently','run','o','x',\n",
    "  'yosemite'], 'greeting': ['hi', 'hello', 'yo', 'hey', 'whats', 'up']\n",
    "    }"
   ]
  },
  {
   "cell_type": "code",
   "execution_count": 12,
   "id": "8c577290",
   "metadata": {},
   "outputs": [
    {
     "data": {
      "text/plain": [
       "{'battery': 'battery power',\n",
       " 'forgot_password': 'password account login',\n",
       " 'payment': 'credit card payment pay',\n",
       " 'update': 'update upgrade',\n",
       " 'info': 'info information',\n",
       " 'location': 'nearest apple location store'}"
      ]
     },
     "execution_count": 12,
     "metadata": {},
     "output_type": "execute_result"
    }
   ],
   "source": [
    "ideal"
   ]
  },
  {
   "cell_type": "code",
   "execution_count": 20,
   "id": "723148d6",
   "metadata": {},
   "outputs": [
    {
     "name": "stdout",
     "output_type": "stream",
     "text": [
      "{'battery': ['battery', 'power'], 'forgot_password': ['password', 'account', 'login'], 'payment': ['credit', 'card', 'payment', 'pay'], 'update': ['update', 'upgrade'], 'info': ['info', 'information'], 'location': ['nearest', 'apple', 'location', 'store']}\n",
      "TAGGED INDEXES TO LOOK FOR\n",
      "\n",
      "battery \n",
      "Index: 95947\n",
      "Preview: 0    battery power\n",
      "dtype: object\n",
      "\n",
      "forgot_password \n",
      "Index: 95948\n",
      "Preview: 1    password account login\n",
      "dtype: object\n",
      "\n",
      "payment \n",
      "Index: 95949\n",
      "Preview: 2    credit card payment pay\n",
      "dtype: object\n",
      "\n",
      "update \n",
      "Index: 95950\n",
      "Preview: 3    update upgrade\n",
      "dtype: object\n",
      "\n",
      "info \n",
      "Index: 95951\n",
      "Preview: 4    info information\n",
      "dtype: object\n",
      "\n",
      "location \n",
      "Index: 95952\n",
      "Preview: 5    nearest apple location store\n",
      "dtype: object\n"
     ]
    },
    {
     "data": {
      "text/plain": [
       "{'battery': '95947',\n",
       " 'forgot_password': '95948',\n",
       " 'payment': '95949',\n",
       " 'update': '95950',\n",
       " 'info': '95951',\n",
       " 'location': '95952'}"
      ]
     },
     "execution_count": 20,
     "metadata": {},
     "output_type": "execute_result"
    }
   ],
   "source": [
    "tknzr = TweetTokenizer(strip_handles = True, reduce_len = True)\n",
    "intents_repr = {k:tknzr.tokenize(v) for k, v in ideal.items()}\n",
    "print(intents_repr)\n",
    "\n",
    "with open('intents_repr.yml', 'w') as outfile:\n",
    "    yaml.dump(intents_repr, outfile, default_flow_style=False)\n",
    "\n",
    "tags = []\n",
    "\n",
    "tokenized_processed_inbound = processed_inbound_extra.apply(tknzr.tokenize)\n",
    "\n",
    "def report_index_loc(tweet, intent_name):\n",
    "    ''' Takes in the Tweet to find the index for and returns a report of that Tweet index along with what the \n",
    "    representative Tweet looks like'''\n",
    "    try:\n",
    "        tweets = []\n",
    "        for i,j in enumerate(tokenized_processed_inbound):\n",
    "            if j == tweet:\n",
    "                tweets.append((i, True))\n",
    "            else:\n",
    "                tweets.append((i, False))\n",
    "        index = []\n",
    "        get_index = [index.append(i[0]) if i[1] == True else False for i in tweets] # Comprehension saves space\n",
    "\n",
    "        preview = processed_inbound_extra.iloc[index]\n",
    "\n",
    "       \n",
    "        tags.append(str(index[0]))\n",
    "    except IndexError as e:\n",
    "        print('Index not in list, move on')\n",
    "        return\n",
    "        \n",
    "    return intent_name, str(index[0]), preview\n",
    "\n",
    "print('TAGGED INDEXES TO LOOK FOR')\n",
    "for j,i in intents_repr.items():\n",
    "    try:\n",
    "        print('\\n{} \\nIndex: {}\\nPreview: {}'.format(*report_index_loc(i,j)))\n",
    "    except Exception as e:\n",
    "        print('Index ended')\n",
    "\n",
    "\n",
    "intents_tags = dict(zip(intents_repr.keys(), tags))\n",
    "intents_tags"
   ]
  },
  {
   "cell_type": "code",
   "execution_count": 82,
   "id": "ad0f51f2",
   "metadata": {},
   "outputs": [
    {
     "data": {
      "text/plain": [
       "[('29997', 0.9251912832260132),\n",
       " ('15664', 0.8876045942306519),\n",
       " ('14200', 0.8798524737358093),\n",
       " ('89949', 0.8568456768989563),\n",
       " ('59391', 0.8520331382751465)]"
      ]
     },
     "execution_count": 82,
     "metadata": {},
     "output_type": "execute_result"
    }
   ],
   "source": [
    "similar_doc = model.docvecs.most_similar('95947',topn = 1000)\n",
    "similar_doc[:5]"
   ]
  },
  {
   "cell_type": "code",
   "execution_count": 83,
   "id": "66364c37",
   "metadata": {},
   "outputs": [],
   "source": [
    "train = pd.DataFrame()\n",
    "processed_inbound = processed_inbound_extra\n",
    "\n",
    "def generate_intent(target, itag):\n",
    "    similar_doc = model.docvecs.most_similar(itag,topn = target)\n",
    "    \n",
    "    indexes = [int(i[0]) for i in similar_doc]\n",
    "\n",
    "    return [word_tokenize(tweet) for tweet in list(processed_inbound.iloc[indexes].values)]\n",
    "\n",
    "for intent_name, itag in intents_tags.items():\n",
    "    train[intent_name] = generate_intent(1000, itag)\n"
   ]
  },
  {
   "cell_type": "code",
   "execution_count": 84,
   "id": "ebc63527",
   "metadata": {},
   "outputs": [],
   "source": [
    "manually_added_intents = {\n",
    "    'speak_representative': [['talk','human','please'],\n",
    "                             ['let','me','talk','to','apple','support'], \n",
    "                             ['can','i','speak','agent','person']], \n",
    "    'greeting': [['hi'],['hello'], ['whats','up'], ['good','morning'],\n",
    "                 ['good','evening'], ['good','night']],\n",
    "    'goodbye': [['goodbye'],['bye'],['thank'],['thanks'], ['done']], \n",
    "    'challenge_robot': [['robot','human'], ['are','you','robot'],\n",
    "                       ['who','are','you']]\n",
    "}\n",
    "\n",
    "\n",
    "def insert_manually(target, prototype):\n",
    "   \n",
    "    factor = math.ceil(target / len(prototype))\n",
    "    content = prototype * factor\n",
    "    return [content[i] for i in range(target)]\n",
    "\n",
    "\n",
    "for intent_name in manually_added_intents.keys():\n",
    "    train[intent_name] = insert_manually(1000, [*manually_added_intents[intent_name]])"
   ]
  },
  {
   "cell_type": "code",
   "execution_count": 85,
   "id": "82ee1c8f",
   "metadata": {},
   "outputs": [],
   "source": [
    "hybrid_intents = {'update':(300,700,[['want','update'], ['update','not','working'], \n",
    "                                     ['phone','need','update']], \n",
    "                            intents_tags['update']),\n",
    "                  'info': (800,200, [['need','information'], \n",
    "                                       ['want','to','know','about'], ['what','are','macbook','stats'],\n",
    "                                    ['any','info','next','release','?']], \n",
    "                             intents_tags['info']),\n",
    "                  'payment': (300,700, [['payment','not','through'], \n",
    "                                       ['iphone', 'apple', 'pay', 'but', 'not', 'arrive'],\n",
    "                                       ['how','pay','for', 'this'],\n",
    "                                       ['can','i','pay','for','this','first']], \n",
    "                             intents_tags['payment']),\n",
    "                  'forgot_password': (600,400, [['forgot','my','pass'], ['forgot','my','login'\n",
    "                                ,'details'], ['cannot','log','in','password'],['lost','account','recover','password']], \n",
    "                             intents_tags['forgot_password'])\n",
    "                 }\n",
    "\n",
    "def insert_hybrid(manual_target, generated_target, prototype, itag):\n",
    "    return insert_manually(manual_target, prototype) + list(generate_intent(generated_target, itag))\n",
    "\n",
    "\n",
    "for intent_name, args in hybrid_intents.items():\n",
    "    train[intent_name] = insert_hybrid(*args)"
   ]
  },
  {
   "cell_type": "code",
   "execution_count": 86,
   "id": "81320fae",
   "metadata": {},
   "outputs": [],
   "source": [
    "\n",
    "neat_train = pd.DataFrame(train.T.unstack()).reset_index().iloc[:,1:].rename(columns={'level_1':'Intent', 0: 'Utterance'})\n",
    "\n",
    "neat_train = neat_train[['Utterance','Intent']]\n",
    "\n",
    "\n",
    "neat_train.to_pickle('train.pkl')\n"
   ]
  },
  {
   "cell_type": "code",
   "execution_count": 87,
   "id": "ea3ef3e1",
   "metadata": {},
   "outputs": [
    {
     "name": "stdout",
     "output_type": "stream",
     "text": [
      "(1000, 10)\n"
     ]
    },
    {
     "data": {
      "text/html": [
       "<style type=\"text/css\">\n",
       "#T_136bf_row0_col0, #T_136bf_row0_col1, #T_136bf_row0_col2, #T_136bf_row0_col3, #T_136bf_row0_col4, #T_136bf_row0_col5, #T_136bf_row0_col6, #T_136bf_row0_col7, #T_136bf_row0_col8, #T_136bf_row0_col9, #T_136bf_row1_col0, #T_136bf_row1_col1, #T_136bf_row1_col2, #T_136bf_row1_col3, #T_136bf_row1_col4, #T_136bf_row1_col5, #T_136bf_row1_col6, #T_136bf_row1_col7, #T_136bf_row1_col8, #T_136bf_row1_col9, #T_136bf_row2_col0, #T_136bf_row2_col1, #T_136bf_row2_col2, #T_136bf_row2_col3, #T_136bf_row2_col4, #T_136bf_row2_col5, #T_136bf_row2_col6, #T_136bf_row2_col7, #T_136bf_row2_col8, #T_136bf_row2_col9, #T_136bf_row3_col0, #T_136bf_row3_col1, #T_136bf_row3_col2, #T_136bf_row3_col3, #T_136bf_row3_col4, #T_136bf_row3_col5, #T_136bf_row3_col6, #T_136bf_row3_col7, #T_136bf_row3_col8, #T_136bf_row3_col9, #T_136bf_row4_col0, #T_136bf_row4_col1, #T_136bf_row4_col2, #T_136bf_row4_col3, #T_136bf_row4_col4, #T_136bf_row4_col5, #T_136bf_row4_col6, #T_136bf_row4_col7, #T_136bf_row4_col8, #T_136bf_row4_col9, #T_136bf_row5_col0, #T_136bf_row5_col1, #T_136bf_row5_col2, #T_136bf_row5_col3, #T_136bf_row5_col4, #T_136bf_row5_col5, #T_136bf_row5_col6, #T_136bf_row5_col7, #T_136bf_row5_col8, #T_136bf_row5_col9, #T_136bf_row6_col0, #T_136bf_row6_col1, #T_136bf_row6_col2, #T_136bf_row6_col3, #T_136bf_row6_col4, #T_136bf_row6_col5, #T_136bf_row6_col6, #T_136bf_row6_col7, #T_136bf_row6_col8, #T_136bf_row6_col9, #T_136bf_row7_col0, #T_136bf_row7_col1, #T_136bf_row7_col2, #T_136bf_row7_col3, #T_136bf_row7_col4, #T_136bf_row7_col5, #T_136bf_row7_col6, #T_136bf_row7_col7, #T_136bf_row7_col8, #T_136bf_row7_col9, #T_136bf_row8_col0, #T_136bf_row8_col1, #T_136bf_row8_col2, #T_136bf_row8_col3, #T_136bf_row8_col4, #T_136bf_row8_col5, #T_136bf_row8_col6, #T_136bf_row8_col7, #T_136bf_row8_col8, #T_136bf_row8_col9, #T_136bf_row9_col0, #T_136bf_row9_col1, #T_136bf_row9_col2, #T_136bf_row9_col3, #T_136bf_row9_col4, #T_136bf_row9_col5, #T_136bf_row9_col6, #T_136bf_row9_col7, #T_136bf_row9_col8, #T_136bf_row9_col9 {\n",
       "  background-color: white;\n",
       "  color: lawngreen;\n",
       "  border-color: white;\n",
       "  color: black;\n",
       "}\n",
       "</style>\n",
       "<table id=\"T_136bf_\">\n",
       "  <thead>\n",
       "    <tr>\n",
       "      <th class=\"blank level0\" >&nbsp;</th>\n",
       "      <th class=\"col_heading level0 col0\" >battery</th>\n",
       "      <th class=\"col_heading level0 col1\" >forgot_password</th>\n",
       "      <th class=\"col_heading level0 col2\" >payment</th>\n",
       "      <th class=\"col_heading level0 col3\" >update</th>\n",
       "      <th class=\"col_heading level0 col4\" >info</th>\n",
       "      <th class=\"col_heading level0 col5\" >location</th>\n",
       "      <th class=\"col_heading level0 col6\" >speak_representative</th>\n",
       "      <th class=\"col_heading level0 col7\" >greeting</th>\n",
       "      <th class=\"col_heading level0 col8\" >goodbye</th>\n",
       "      <th class=\"col_heading level0 col9\" >challenge_robot</th>\n",
       "    </tr>\n",
       "  </thead>\n",
       "  <tbody>\n",
       "    <tr>\n",
       "      <th id=\"T_136bf_level0_row0\" class=\"row_heading level0 row0\" >0</th>\n",
       "      <td id=\"T_136bf_row0_col0\" class=\"data row0 col0\" >['battery', 'phone', 'hot', 'plug', 'min', 'later', 'battery']</td>\n",
       "      <td id=\"T_136bf_row0_col1\" class=\"data row0 col1\" >['forgot', 'my', 'pass']</td>\n",
       "      <td id=\"T_136bf_row0_col2\" class=\"data row0 col2\" >['payment', 'not', 'through']</td>\n",
       "      <td id=\"T_136bf_row0_col3\" class=\"data row0 col3\" >['want', 'update']</td>\n",
       "      <td id=\"T_136bf_row0_col4\" class=\"data row0 col4\" >['need', 'information']</td>\n",
       "      <td id=\"T_136bf_row0_col5\" class=\"data row0 col5\" >['deny', 'service', 'stamford', 'ct', 'mall', 'store', 'discirimination', 'dishonest']</td>\n",
       "      <td id=\"T_136bf_row0_col6\" class=\"data row0 col6\" >['talk', 'human', 'please']</td>\n",
       "      <td id=\"T_136bf_row0_col7\" class=\"data row0 col7\" >['hi']</td>\n",
       "      <td id=\"T_136bf_row0_col8\" class=\"data row0 col8\" >['goodbye']</td>\n",
       "      <td id=\"T_136bf_row0_col9\" class=\"data row0 col9\" >['robot', 'human']</td>\n",
       "    </tr>\n",
       "    <tr>\n",
       "      <th id=\"T_136bf_level0_row1\" class=\"row_heading level0 row1\" >1</th>\n",
       "      <td id=\"T_136bf_row1_col0\" class=\"data row1 col0\" >['battery', 'drain', 'quickly']</td>\n",
       "      <td id=\"T_136bf_row1_col1\" class=\"data row1 col1\" >['forgot', 'my', 'login', 'details']</td>\n",
       "      <td id=\"T_136bf_row1_col2\" class=\"data row1 col2\" >['iphone', 'apple', 'pay', 'but', 'not', 'arrive']</td>\n",
       "      <td id=\"T_136bf_row1_col3\" class=\"data row1 col3\" >['update', 'not', 'working']</td>\n",
       "      <td id=\"T_136bf_row1_col4\" class=\"data row1 col4\" >['want', 'to', 'know', 'about']</td>\n",
       "      <td id=\"T_136bf_row1_col5\" class=\"data row1 col5\" >['store', 'pasadena', 'bad', 'customer', 'service', 'everrrr']</td>\n",
       "      <td id=\"T_136bf_row1_col6\" class=\"data row1 col6\" >['let', 'me', 'talk', 'to', 'apple', 'support']</td>\n",
       "      <td id=\"T_136bf_row1_col7\" class=\"data row1 col7\" >['hello']</td>\n",
       "      <td id=\"T_136bf_row1_col8\" class=\"data row1 col8\" >['bye']</td>\n",
       "      <td id=\"T_136bf_row1_col9\" class=\"data row1 col9\" >['are', 'you', 'robot']</td>\n",
       "    </tr>\n",
       "    <tr>\n",
       "      <th id=\"T_136bf_level0_row2\" class=\"row_heading level0 row2\" >2</th>\n",
       "      <td id=\"T_136bf_row2_col0\" class=\"data row2 col0\" >['shutdown', 'way', 'battery']</td>\n",
       "      <td id=\"T_136bf_row2_col1\" class=\"data row2 col1\" >['cannot', 'log', 'in', 'password']</td>\n",
       "      <td id=\"T_136bf_row2_col2\" class=\"data row2 col2\" >['how', 'pay', 'for', 'this']</td>\n",
       "      <td id=\"T_136bf_row2_col3\" class=\"data row2 col3\" >['phone', 'need', 'update']</td>\n",
       "      <td id=\"T_136bf_row2_col4\" class=\"data row2 col4\" >['what', 'are', 'macbook', 'stats']</td>\n",
       "      <td id=\"T_136bf_row2_col5\" class=\"data row2 col5\" >['online', 'apple', 'store']</td>\n",
       "      <td id=\"T_136bf_row2_col6\" class=\"data row2 col6\" >['can', 'i', 'speak', 'agent', 'person']</td>\n",
       "      <td id=\"T_136bf_row2_col7\" class=\"data row2 col7\" >['whats', 'up']</td>\n",
       "      <td id=\"T_136bf_row2_col8\" class=\"data row2 col8\" >['thank']</td>\n",
       "      <td id=\"T_136bf_row2_col9\" class=\"data row2 col9\" >['who', 'are', 'you']</td>\n",
       "    </tr>\n",
       "    <tr>\n",
       "      <th id=\"T_136bf_level0_row3\" class=\"row_heading level0 row3\" >3</th>\n",
       "      <td id=\"T_136bf_row3_col0\" class=\"data row3 col0\" >['battery', 'dy', 'fast']</td>\n",
       "      <td id=\"T_136bf_row3_col1\" class=\"data row3 col1\" >['lost', 'account', 'recover', 'password']</td>\n",
       "      <td id=\"T_136bf_row3_col2\" class=\"data row3 col2\" >['can', 'i', 'pay', 'for', 'this', 'first']</td>\n",
       "      <td id=\"T_136bf_row3_col3\" class=\"data row3 col3\" >['want', 'update']</td>\n",
       "      <td id=\"T_136bf_row3_col4\" class=\"data row3 col4\" >['any', 'info', 'next', 'release', '?']</td>\n",
       "      <td id=\"T_136bf_row3_col5\" class=\"data row3 col5\" >['boston', 'brisbane', 'isin', 'san', 'francisco', 'australia', 'arkansas', 'store', 'near', 'chermside', 'news']</td>\n",
       "      <td id=\"T_136bf_row3_col6\" class=\"data row3 col6\" >['talk', 'human', 'please']</td>\n",
       "      <td id=\"T_136bf_row3_col7\" class=\"data row3 col7\" >['good', 'morning']</td>\n",
       "      <td id=\"T_136bf_row3_col8\" class=\"data row3 col8\" >['thanks']</td>\n",
       "      <td id=\"T_136bf_row3_col9\" class=\"data row3 col9\" >['robot', 'human']</td>\n",
       "    </tr>\n",
       "    <tr>\n",
       "      <th id=\"T_136bf_level0_row4\" class=\"row_heading level0 row4\" >4</th>\n",
       "      <td id=\"T_136bf_row4_col0\" class=\"data row4 col0\" >['battery', 'drain', 'faster']</td>\n",
       "      <td id=\"T_136bf_row4_col1\" class=\"data row4 col1\" >['forgot', 'my', 'pass']</td>\n",
       "      <td id=\"T_136bf_row4_col2\" class=\"data row4 col2\" >['payment', 'not', 'through']</td>\n",
       "      <td id=\"T_136bf_row4_col3\" class=\"data row4 col3\" >['update', 'not', 'working']</td>\n",
       "      <td id=\"T_136bf_row4_col4\" class=\"data row4 col4\" >['need', 'information']</td>\n",
       "      <td id=\"T_136bf_row4_col5\" class=\"data row4 col5\" >['liverpool', 'store', 'customer', 'service', 'appal']</td>\n",
       "      <td id=\"T_136bf_row4_col6\" class=\"data row4 col6\" >['let', 'me', 'talk', 'to', 'apple', 'support']</td>\n",
       "      <td id=\"T_136bf_row4_col7\" class=\"data row4 col7\" >['good', 'evening']</td>\n",
       "      <td id=\"T_136bf_row4_col8\" class=\"data row4 col8\" >['done']</td>\n",
       "      <td id=\"T_136bf_row4_col9\" class=\"data row4 col9\" >['are', 'you', 'robot']</td>\n",
       "    </tr>\n",
       "    <tr>\n",
       "      <th id=\"T_136bf_level0_row5\" class=\"row_heading level0 row5\" >5</th>\n",
       "      <td id=\"T_136bf_row5_col0\" class=\"data row5 col0\" >['iphone', 'charger', 'battery', 'stuck', 'percentage']</td>\n",
       "      <td id=\"T_136bf_row5_col1\" class=\"data row5 col1\" >['forgot', 'my', 'login', 'details']</td>\n",
       "      <td id=\"T_136bf_row5_col2\" class=\"data row5 col2\" >['iphone', 'apple', 'pay', 'but', 'not', 'arrive']</td>\n",
       "      <td id=\"T_136bf_row5_col3\" class=\"data row5 col3\" >['phone', 'need', 'update']</td>\n",
       "      <td id=\"T_136bf_row5_col4\" class=\"data row5 col4\" >['want', 'to', 'know', 'about']</td>\n",
       "      <td id=\"T_136bf_row5_col5\" class=\"data row5 col5\" >['horrible', 'customer', 'service', 'apple', 'bahrain', 'bahrain', 'imachine', 'apple', 'istore']</td>\n",
       "      <td id=\"T_136bf_row5_col6\" class=\"data row5 col6\" >['can', 'i', 'speak', 'agent', 'person']</td>\n",
       "      <td id=\"T_136bf_row5_col7\" class=\"data row5 col7\" >['good', 'night']</td>\n",
       "      <td id=\"T_136bf_row5_col8\" class=\"data row5 col8\" >['goodbye']</td>\n",
       "      <td id=\"T_136bf_row5_col9\" class=\"data row5 col9\" >['who', 'are', 'you']</td>\n",
       "    </tr>\n",
       "    <tr>\n",
       "      <th id=\"T_136bf_level0_row6\" class=\"row_heading level0 row6\" >6</th>\n",
       "      <td id=\"T_136bf_row6_col0\" class=\"data row6 col0\" >['iphone', 'battery', 'die', 'quickly']</td>\n",
       "      <td id=\"T_136bf_row6_col1\" class=\"data row6 col1\" >['cannot', 'log', 'in', 'password']</td>\n",
       "      <td id=\"T_136bf_row6_col2\" class=\"data row6 col2\" >['how', 'pay', 'for', 'this']</td>\n",
       "      <td id=\"T_136bf_row6_col3\" class=\"data row6 col3\" >['want', 'update']</td>\n",
       "      <td id=\"T_136bf_row6_col4\" class=\"data row6 col4\" >['what', 'are', 'macbook', 'stats']</td>\n",
       "      <td id=\"T_136bf_row6_col5\" class=\"data row6 col5\" >['disgust', 'apple', 'store', 'service', 'customer', 'service', 'bethesda', 'store', 'horrible']</td>\n",
       "      <td id=\"T_136bf_row6_col6\" class=\"data row6 col6\" >['talk', 'human', 'please']</td>\n",
       "      <td id=\"T_136bf_row6_col7\" class=\"data row6 col7\" >['hi']</td>\n",
       "      <td id=\"T_136bf_row6_col8\" class=\"data row6 col8\" >['bye']</td>\n",
       "      <td id=\"T_136bf_row6_col9\" class=\"data row6 col9\" >['robot', 'human']</td>\n",
       "    </tr>\n",
       "    <tr>\n",
       "      <th id=\"T_136bf_level0_row7\" class=\"row_heading level0 row7\" >7</th>\n",
       "      <td id=\"T_136bf_row7_col0\" class=\"data row7 col0\" >['battery', 'die', 'fast']</td>\n",
       "      <td id=\"T_136bf_row7_col1\" class=\"data row7 col1\" >['lost', 'account', 'recover', 'password']</td>\n",
       "      <td id=\"T_136bf_row7_col2\" class=\"data row7 col2\" >['can', 'i', 'pay', 'for', 'this', 'first']</td>\n",
       "      <td id=\"T_136bf_row7_col3\" class=\"data row7 col3\" >['update', 'not', 'working']</td>\n",
       "      <td id=\"T_136bf_row7_col4\" class=\"data row7 col4\" >['any', 'info', 'next', 'release', '?']</td>\n",
       "      <td id=\"T_136bf_row7_col5\" class=\"data row7 col5\" >['apple', 'store', 'app', 'apple', 'tv']</td>\n",
       "      <td id=\"T_136bf_row7_col6\" class=\"data row7 col6\" >['let', 'me', 'talk', 'to', 'apple', 'support']</td>\n",
       "      <td id=\"T_136bf_row7_col7\" class=\"data row7 col7\" >['hello']</td>\n",
       "      <td id=\"T_136bf_row7_col8\" class=\"data row7 col8\" >['thank']</td>\n",
       "      <td id=\"T_136bf_row7_col9\" class=\"data row7 col9\" >['are', 'you', 'robot']</td>\n",
       "    </tr>\n",
       "    <tr>\n",
       "      <th id=\"T_136bf_level0_row8\" class=\"row_heading level0 row8\" >8</th>\n",
       "      <td id=\"T_136bf_row8_col0\" class=\"data row8 col0\" >['charge', 'iphone', 'still', 'power', 'percentage', 'decrease']</td>\n",
       "      <td id=\"T_136bf_row8_col1\" class=\"data row8 col1\" >['forgot', 'my', 'pass']</td>\n",
       "      <td id=\"T_136bf_row8_col2\" class=\"data row8 col2\" >['payment', 'not', 'through']</td>\n",
       "      <td id=\"T_136bf_row8_col3\" class=\"data row8 col3\" >['phone', 'need', 'update']</td>\n",
       "      <td id=\"T_136bf_row8_col4\" class=\"data row8 col4\" >['need', 'information']</td>\n",
       "      <td id=\"T_136bf_row8_col5\" class=\"data row8 col5\" >['customer', 'service', 'store', 'naperville', 'awful']</td>\n",
       "      <td id=\"T_136bf_row8_col6\" class=\"data row8 col6\" >['can', 'i', 'speak', 'agent', 'person']</td>\n",
       "      <td id=\"T_136bf_row8_col7\" class=\"data row8 col7\" >['whats', 'up']</td>\n",
       "      <td id=\"T_136bf_row8_col8\" class=\"data row8 col8\" >['thanks']</td>\n",
       "      <td id=\"T_136bf_row8_col9\" class=\"data row8 col9\" >['who', 'are', 'you']</td>\n",
       "    </tr>\n",
       "    <tr>\n",
       "      <th id=\"T_136bf_level0_row9\" class=\"row_heading level0 row9\" >9</th>\n",
       "      <td id=\"T_136bf_row9_col0\" class=\"data row9 col0\" >['battery', 'last', 'hour']</td>\n",
       "      <td id=\"T_136bf_row9_col1\" class=\"data row9 col1\" >['forgot', 'my', 'login', 'details']</td>\n",
       "      <td id=\"T_136bf_row9_col2\" class=\"data row9 col2\" >['iphone', 'apple', 'pay', 'but', 'not', 'arrive']</td>\n",
       "      <td id=\"T_136bf_row9_col3\" class=\"data row9 col3\" >['want', 'update']</td>\n",
       "      <td id=\"T_136bf_row9_col4\" class=\"data row9 col4\" >['want', 'to', 'know', 'about']</td>\n",
       "      <td id=\"T_136bf_row9_col5\" class=\"data row9 col5\" >['location', 'medical', 'college', 'vadodara', 'kothi', 'vadodara', 'gujarat']</td>\n",
       "      <td id=\"T_136bf_row9_col6\" class=\"data row9 col6\" >['talk', 'human', 'please']</td>\n",
       "      <td id=\"T_136bf_row9_col7\" class=\"data row9 col7\" >['good', 'morning']</td>\n",
       "      <td id=\"T_136bf_row9_col8\" class=\"data row9 col8\" >['done']</td>\n",
       "      <td id=\"T_136bf_row9_col9\" class=\"data row9 col9\" >['robot', 'human']</td>\n",
       "    </tr>\n",
       "  </tbody>\n",
       "</table>\n"
      ],
      "text/plain": [
       "<pandas.io.formats.style.Styler at 0x238aebbbd30>"
      ]
     },
     "execution_count": 87,
     "metadata": {},
     "output_type": "execute_result"
    }
   ],
   "source": [
    "\n",
    "show = lambda x: x.head(10).style.set_properties(**{'background-color': 'white',                                                   \n",
    "                                    'color': 'lawngreen',                       \n",
    "                                    'border-color': 'white'})\\\n",
    ".applymap(lambda x: f\"color: {'lawngreen' if isinstance(x,str) else 'black'}\")\\\n",
    ".background_gradient(cmap='white')\n",
    "\n",
    "print(train.shape)\n",
    "show(train)"
   ]
  },
  {
   "cell_type": "code",
   "execution_count": 88,
   "id": "9061ab60",
   "metadata": {},
   "outputs": [
    {
     "name": "stdout",
     "output_type": "stream",
     "text": [
      "(10000, 2)\n"
     ]
    },
    {
     "data": {
      "text/html": [
       "<style type=\"text/css\">\n",
       "#T_5fd84_row0_col0, #T_5fd84_row1_col0, #T_5fd84_row2_col0, #T_5fd84_row3_col0, #T_5fd84_row4_col0, #T_5fd84_row5_col0, #T_5fd84_row6_col0, #T_5fd84_row7_col0, #T_5fd84_row8_col0, #T_5fd84_row9_col0 {\n",
       "  background-color: white;\n",
       "  color: lawngreen;\n",
       "  border-color: white;\n",
       "  color: black;\n",
       "}\n",
       "#T_5fd84_row0_col1, #T_5fd84_row1_col1, #T_5fd84_row2_col1, #T_5fd84_row3_col1, #T_5fd84_row4_col1, #T_5fd84_row5_col1, #T_5fd84_row6_col1, #T_5fd84_row7_col1, #T_5fd84_row8_col1, #T_5fd84_row9_col1 {\n",
       "  background-color: white;\n",
       "  color: lawngreen;\n",
       "  border-color: white;\n",
       "  color: lawngreen;\n",
       "}\n",
       "</style>\n",
       "<table id=\"T_5fd84_\">\n",
       "  <thead>\n",
       "    <tr>\n",
       "      <th class=\"blank level0\" >&nbsp;</th>\n",
       "      <th class=\"col_heading level0 col0\" >Utterance</th>\n",
       "      <th class=\"col_heading level0 col1\" >Intent</th>\n",
       "    </tr>\n",
       "  </thead>\n",
       "  <tbody>\n",
       "    <tr>\n",
       "      <th id=\"T_5fd84_level0_row0\" class=\"row_heading level0 row0\" >0</th>\n",
       "      <td id=\"T_5fd84_row0_col0\" class=\"data row0 col0\" >['battery', 'phone', 'hot', 'plug', 'min', 'later', 'battery']</td>\n",
       "      <td id=\"T_5fd84_row0_col1\" class=\"data row0 col1\" >battery</td>\n",
       "    </tr>\n",
       "    <tr>\n",
       "      <th id=\"T_5fd84_level0_row1\" class=\"row_heading level0 row1\" >1</th>\n",
       "      <td id=\"T_5fd84_row1_col0\" class=\"data row1 col0\" >['forgot', 'my', 'pass']</td>\n",
       "      <td id=\"T_5fd84_row1_col1\" class=\"data row1 col1\" >forgot_password</td>\n",
       "    </tr>\n",
       "    <tr>\n",
       "      <th id=\"T_5fd84_level0_row2\" class=\"row_heading level0 row2\" >2</th>\n",
       "      <td id=\"T_5fd84_row2_col0\" class=\"data row2 col0\" >['payment', 'not', 'through']</td>\n",
       "      <td id=\"T_5fd84_row2_col1\" class=\"data row2 col1\" >payment</td>\n",
       "    </tr>\n",
       "    <tr>\n",
       "      <th id=\"T_5fd84_level0_row3\" class=\"row_heading level0 row3\" >3</th>\n",
       "      <td id=\"T_5fd84_row3_col0\" class=\"data row3 col0\" >['want', 'update']</td>\n",
       "      <td id=\"T_5fd84_row3_col1\" class=\"data row3 col1\" >update</td>\n",
       "    </tr>\n",
       "    <tr>\n",
       "      <th id=\"T_5fd84_level0_row4\" class=\"row_heading level0 row4\" >4</th>\n",
       "      <td id=\"T_5fd84_row4_col0\" class=\"data row4 col0\" >['need', 'information']</td>\n",
       "      <td id=\"T_5fd84_row4_col1\" class=\"data row4 col1\" >info</td>\n",
       "    </tr>\n",
       "    <tr>\n",
       "      <th id=\"T_5fd84_level0_row5\" class=\"row_heading level0 row5\" >5</th>\n",
       "      <td id=\"T_5fd84_row5_col0\" class=\"data row5 col0\" >['deny', 'service', 'stamford', 'ct', 'mall', 'store', 'discirimination', 'dishonest']</td>\n",
       "      <td id=\"T_5fd84_row5_col1\" class=\"data row5 col1\" >location</td>\n",
       "    </tr>\n",
       "    <tr>\n",
       "      <th id=\"T_5fd84_level0_row6\" class=\"row_heading level0 row6\" >6</th>\n",
       "      <td id=\"T_5fd84_row6_col0\" class=\"data row6 col0\" >['talk', 'human', 'please']</td>\n",
       "      <td id=\"T_5fd84_row6_col1\" class=\"data row6 col1\" >speak_representative</td>\n",
       "    </tr>\n",
       "    <tr>\n",
       "      <th id=\"T_5fd84_level0_row7\" class=\"row_heading level0 row7\" >7</th>\n",
       "      <td id=\"T_5fd84_row7_col0\" class=\"data row7 col0\" >['hi']</td>\n",
       "      <td id=\"T_5fd84_row7_col1\" class=\"data row7 col1\" >greeting</td>\n",
       "    </tr>\n",
       "    <tr>\n",
       "      <th id=\"T_5fd84_level0_row8\" class=\"row_heading level0 row8\" >8</th>\n",
       "      <td id=\"T_5fd84_row8_col0\" class=\"data row8 col0\" >['goodbye']</td>\n",
       "      <td id=\"T_5fd84_row8_col1\" class=\"data row8 col1\" >goodbye</td>\n",
       "    </tr>\n",
       "    <tr>\n",
       "      <th id=\"T_5fd84_level0_row9\" class=\"row_heading level0 row9\" >9</th>\n",
       "      <td id=\"T_5fd84_row9_col0\" class=\"data row9 col0\" >['robot', 'human']</td>\n",
       "      <td id=\"T_5fd84_row9_col1\" class=\"data row9 col1\" >challenge_robot</td>\n",
       "    </tr>\n",
       "  </tbody>\n",
       "</table>\n"
      ],
      "text/plain": [
       "<pandas.io.formats.style.Styler at 0x238aebbbcd0>"
      ]
     },
     "execution_count": 88,
     "metadata": {},
     "output_type": "execute_result"
    }
   ],
   "source": [
    "print(neat_train.shape)\n",
    "show(neat_train)"
   ]
  },
  {
   "cell_type": "code",
   "execution_count": 91,
   "id": "e7671a33",
   "metadata": {},
   "outputs": [
    {
     "data": {
      "image/png": "[encoded data removed]",
      "text/plain": [
       "<Figure size 864x432 with 1 Axes>"
      ]
     },
     "metadata": {},
     "output_type": "display_data"
    },
    {
     "data": {
      "image/png": "[encoded data removed]",
      "text/plain": [
       "<Figure size 864x432 with 1 Axes>"
      ]
     },
     "metadata": {},
     "output_type": "display_data"
    },
    {
     "data": {
      "image/png": "[encoded data removed]",
      "text/plain": [
       "<Figure size 864x432 with 1 Axes>"
      ]
     },
     "metadata": {},
     "output_type": "display_data"
    },
    {
     "data": {
      "image/png": "[encoded data removed]",
      "text/plain": [
       "<Figure size 864x432 with 1 Axes>"
      ]
     },
     "metadata": {},
     "output_type": "display_data"
    },
    {
     "data": {
      "image/png": "[encoded data removed]",
      "text/plain": [
       "<Figure size 864x432 with 1 Axes>"
      ]
     },
     "metadata": {},
     "output_type": "display_data"
    },
    {
     "data": {
      "image/png": "[encoded data removed]",
      "text/plain": [
       "<Figure size 864x432 with 1 Axes>"
      ]
     },
     "metadata": {},
     "output_type": "display_data"
    },
    {
     "data": {
      "image/png": "[encoded data removed]",
      "text/plain": [
       "<Figure size 864x432 with 1 Axes>"
      ]
     },
     "metadata": {},
     "output_type": "display_data"
    },
    {
     "data": {
      "image/png": "[encoded data removed]",
      "text/plain": [
       "<Figure size 864x432 with 1 Axes>"
      ]
     },
     "metadata": {},
     "output_type": "display_data"
    },
    {
     "data": {
      "image/png": "[encoded data removed]",
      "text/plain": [
       "<Figure size 864x432 with 1 Axes>"
      ]
     },
     "metadata": {},
     "output_type": "display_data"
    },
    {
     "data": {
      "image/png": "[encoded data removed]",
      "text/plain": [
       "<Figure size 864x432 with 1 Axes>"
      ]
     },
     "metadata": {},
     "output_type": "display_data"
    }
   ],
   "source": [
    "wordranks = {}\n",
    "\n",
    "\n",
    "def top10_bagofwords(data, output_name, title):\n",
    "    ''' Taking as input the data and plots the top 10 words based on counts in this text data'''\n",
    "    bagofwords = CountVectorizer()\n",
    "\n",
    "    inbound = bagofwords.fit_transform(data)\n",
    "   \n",
    " \n",
    "    word_counts = np.array(np.sum(inbound, axis=0)).reshape((-1,))\n",
    "    \n",
    "    words = np.array(bagofwords.get_feature_names())\n",
    "    \n",
    "    words_df = pd.DataFrame({\"word\":words, \n",
    "                             \"count\":word_counts})\n",
    "    \n",
    "    words_rank = words_df.sort_values(by=\"count\", ascending=False)\n",
    "    \n",
    "    wordranks[output_name] = words_rank\n",
    "    \n",
    "    \n",
    "    plt.figure(figsize=(12,6))\n",
    "    sns.barplot(words_rank['word'][:10], words_rank['count'][:10], palette = 'inferno')\n",
    "    plt.title(title)\n",
    " \n",
    " \n",
    "  \n",
    "    \n",
    "   \n",
    "\n",
    "for i in train.columns:\n",
    "    \n",
    "    top10_bagofwords(train[i].apply(\" \".join), f'bucket_eval/{i}', f'Top 10 Words in {i} Intent')"
   ]
  },
  {
   "cell_type": "code",
   "execution_count": null,
   "id": "f6891263",
   "metadata": {},
   "outputs": [],
   "source": []
  }
 ],
 "metadata": {
  "kernelspec": {
   "display_name": "Python 3 (ipykernel)",
   "language": "python",
   "name": "python3"
  },
  "language_info": {
   "codemirror_mode": {
    "name": "ipython",
    "version": 3
   },
   "file_extension": ".py",
   "mimetype": "text/x-python",
   "name": "python",
   "nbconvert_exporter": "python",
   "pygments_lexer": "ipython3",
   "version": "3.9.16"
  }
 },
 "nbformat": 4,
 "nbformat_minor": 5
}
