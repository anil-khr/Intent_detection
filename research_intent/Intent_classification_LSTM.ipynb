{
 "cells": [
  {
   "cell_type": "code",
   "execution_count": 9,
   "id": "aa5c0d5a",
   "metadata": {},
   "outputs": [
    {
     "data": {
      "text/html": [
       "<div>\n",
       "<style scoped>\n",
       "    .dataframe tbody tr th:only-of-type {\n",
       "        vertical-align: middle;\n",
       "    }\n",
       "\n",
       "    .dataframe tbody tr th {\n",
       "        vertical-align: top;\n",
       "    }\n",
       "\n",
       "    .dataframe thead th {\n",
       "        text-align: right;\n",
       "    }\n",
       "</style>\n",
       "<table border=\"1\" class=\"dataframe\">\n",
       "  <thead>\n",
       "    <tr style=\"text-align: right;\">\n",
       "      <th></th>\n",
       "      <th>Utterance</th>\n",
       "      <th>Intent</th>\n",
       "    </tr>\n",
       "  </thead>\n",
       "  <tbody>\n",
       "    <tr>\n",
       "      <th>0</th>\n",
       "      <td>[battery, phone, hot, plug, min, later, battery]</td>\n",
       "      <td>battery</td>\n",
       "    </tr>\n",
       "    <tr>\n",
       "      <th>1</th>\n",
       "      <td>[forgot, my, pass]</td>\n",
       "      <td>forgot_password</td>\n",
       "    </tr>\n",
       "    <tr>\n",
       "      <th>2</th>\n",
       "      <td>[payment, not, through]</td>\n",
       "      <td>payment</td>\n",
       "    </tr>\n",
       "    <tr>\n",
       "      <th>3</th>\n",
       "      <td>[want, update]</td>\n",
       "      <td>update</td>\n",
       "    </tr>\n",
       "    <tr>\n",
       "      <th>4</th>\n",
       "      <td>[need, information]</td>\n",
       "      <td>info</td>\n",
       "    </tr>\n",
       "    <tr>\n",
       "      <th>5</th>\n",
       "      <td>[deny, service, stamford, ct, mall, store, dis...</td>\n",
       "      <td>location</td>\n",
       "    </tr>\n",
       "    <tr>\n",
       "      <th>6</th>\n",
       "      <td>[talk, human, please]</td>\n",
       "      <td>speak_representative</td>\n",
       "    </tr>\n",
       "    <tr>\n",
       "      <th>7</th>\n",
       "      <td>[hi]</td>\n",
       "      <td>greeting</td>\n",
       "    </tr>\n",
       "    <tr>\n",
       "      <th>8</th>\n",
       "      <td>[goodbye]</td>\n",
       "      <td>goodbye</td>\n",
       "    </tr>\n",
       "    <tr>\n",
       "      <th>9</th>\n",
       "      <td>[robot, human]</td>\n",
       "      <td>challenge_robot</td>\n",
       "    </tr>\n",
       "  </tbody>\n",
       "</table>\n",
       "</div>"
      ],
      "text/plain": [
       "                                           Utterance                Intent\n",
       "0   [battery, phone, hot, plug, min, later, battery]               battery\n",
       "1                                 [forgot, my, pass]       forgot_password\n",
       "2                            [payment, not, through]               payment\n",
       "3                                     [want, update]                update\n",
       "4                                [need, information]                  info\n",
       "5  [deny, service, stamford, ct, mall, store, dis...              location\n",
       "6                              [talk, human, please]  speak_representative\n",
       "7                                               [hi]              greeting\n",
       "8                                          [goodbye]               goodbye\n",
       "9                                     [robot, human]       challenge_robot"
      ]
     },
     "execution_count": 9,
     "metadata": {},
     "output_type": "execute_result"
    }
   ],
   "source": [
    "import pandas as pd\n",
    "import numpy as np\n",
    "import tensorflow as tf\n",
    "from tensorflow import keras\n",
    "import sklearn\n",
    "\n",
    "import seaborn as sns\n",
    "import matplotlib.pyplot as plt\n",
    "sns.set(style=\"ticks\", color_codes=True)\n",
    "\n",
    "import collections\n",
    "import yaml\n",
    "import re\n",
    "import os\n",
    "\n",
    "# Preprocessing and Keras\n",
    "from nltk.corpus import stopwords\n",
    "from nltk.tokenize import word_tokenize\n",
    "from sklearn.preprocessing import OneHotEncoder\n",
    "from keras.preprocessing.text import Tokenizer\n",
    "from tensorflow.keras.preprocessing.sequence import pad_sequences\n",
    "from keras.utils import to_categorical\n",
    "from keras.models import Sequential, load_model\n",
    "from keras.layers import Dense, LSTM, Bidirectional, Embedding, Dropout\n",
    "from keras.callbacks import ModelCheckpoint\n",
    "from sklearn.model_selection import train_test_split\n",
    "from tensorflow.keras.layers import Input\n",
    "\n",
    "\n",
   
    "train = pd.read_pickle('train.pkl')\n",
    "train.head(10)"
   ]
  },
  {
   "cell_type": "code",
   "execution_count": 10,
   "id": "d8d522ac",
   "metadata": {},
   "outputs": [],
   "source": [
    "import warnings\n",
    "warnings.filterwarnings('ignore')"
   ]
  },
  {
   "cell_type": "code",
   "execution_count": 108,
   "id": "4c8b7ad1",
   "metadata": {},
   "outputs": [
    {
     "name": "stderr",
     "output_type": "stream",
     "text": [
      "'pwd' is not recognized as an internal or external command,\n",
      "operable program or batch file.\n"
     ]
    }
   ],
   "source": [
    "!pwd"
   ]
  },
  {
   "cell_type": "code",
   "execution_count": 11,
   "id": "7867a4c3",
   "metadata": {},
   "outputs": [
    {
     "name": "stdout",
     "output_type": "stream",
     "text": [
      "\n",
      "Shape checks:\n",
      "X_train: (7000,) X_val: (3000,)\n",
      "y_train: (7000,) y_val: (3000,)\n"
     ]
    }
   ],
   "source": [
    "from keras.preprocessing.text import Tokenizer\n",
    "from keras.preprocessing.text import one_hot\n",
    "\n",
    "from sklearn.preprocessing import LabelEncoder\n",
    "from sklearn.preprocessing import OneHotEncoder\n",
    "\n",
    "# For the text data\n",
    "from keras.preprocessing.text import hashing_trick\n",
    "from keras.preprocessing.text import text_to_word_sequence\n",
    "\n",
    "X_train, X_val, y_train, y_val = train_test_split(train['Utterance'], train['Intent'], test_size = 0.3, \n",
    "                                                   shuffle = True, stratify = train['Intent'], random_state = 7)\n",
    "print(f'\\nShape checks:\\nX_train: {X_train.shape} X_val: {X_val.shape}\\ny_train: {y_train.shape} y_val: {y_val.shape}')"
   ]
  },
  {
   "cell_type": "code",
   "execution_count": 12,
   "id": "5043ea72",
   "metadata": {},
   "outputs": [],
   "source": [
    "le = LabelEncoder()\n",
    "le.fit(y_train)\n",
    "\n",
    "y_train = le.transform(y_train)\n",
    "y_val = le.transform(y_val)"
   ]
  },
  {
   "cell_type": "code",
   "execution_count": 13,
   "id": "0bddd554",
   "metadata": {},
   "outputs": [
    {
     "data": {
      "text/plain": [
       "array(['battery', 'challenge_robot', 'forgot_password', 'goodbye',\n",
       "       'greeting', 'info', 'location', 'payment', 'speak_representative',\n",
       "       'update'], dtype=object)"
      ]
     },
     "execution_count": 13,
     "metadata": {},
     "output_type": "execute_result"
    }
   ],
   "source": [
    "le.classes_"
   ]
  },
  {
   "cell_type": "code",
   "execution_count": 14,
   "id": "2ac6a845",
   "metadata": {},
   "outputs": [],
   "source": [
    "from keras.preprocessing.text import Tokenizer\n",
    "from tensorflow.keras.preprocessing.sequence import pad_sequences\n",
    "t = Tokenizer()\n",
    "t.fit_on_texts(X_train)\n",
    "\n"
   ]
  },
  {
   "cell_type": "code",
   "execution_count": 15,
   "id": "1ebd1b85",
   "metadata": {},
   "outputs": [],
   "source": [
    "def convert_to_padded(tokenizer, docs):\n",
    "\n",
    "    embedded = t.texts_to_sequences(docs)\n",
    "    # Padding\n",
    "    padded = pad_sequences(embedded, maxlen = max_length, padding = 'post')\n",
    "    return padded"
   ]
  },
  {
   "cell_type": "code",
   "execution_count": 16,
   "id": "a5554de9",
   "metadata": {},
   "outputs": [
    {
     "name": "stdout",
     "output_type": "stream",
     "text": [
      "Document Count: \n",
      "7000\n",
      "\n",
      "Vocab size:\n",
      "4291\n",
      "Max length:\n",
      "41\n",
      "padded_X_train\n",
      "[[  9  15   1 ...   0   0   0]\n",
      " [ 27   6  10 ...   0   0   0]\n",
      " [ 27   6  10 ...   0   0   0]\n",
      " ...\n",
      " [ 25  31   7 ...   0   0   0]\n",
      " [  7   8  12 ...   0   0   0]\n",
      " [ 19 135 214 ...   0   0   0]]\n",
      "padded_X_val\n",
      "[[  11    8    0 ...    0    0    0]\n",
      " [   3    4 3161 ...    0    0    0]\n",
      " [  33    1    3 ...    0    0    0]\n",
      " ...\n",
      " [   6   10   11 ...    0    0    0]\n",
      " [ 100  155  100 ...    0    0    0]\n",
      " [  66    6   46 ...    0    0    0]]\n"
     ]
    }
   ],
   "source": [
    "\n",
    "\n",
    "print(\"Document Count: \\n{}\\n\".format(t.document_count))\n",
    "\n",
    "\n",
    "vocab_size = len(t.word_counts) + 1\n",
    "print(f'Vocab size:\\n{vocab_size}')\n",
    "\n",
    "\n",
    "max_length = len(max(X_train, key = len))\n",
    "\n",
    "print(f'Max length:\\n{max_length}')\n",
    "\n",
    "padded_X_train = convert_to_padded(tokenizer = t, docs = X_train)\n",
    "padded_X_val = convert_to_padded(tokenizer = t, docs = X_val)\n",
    "\n",
    "print(f'padded_X_train\\n{padded_X_train}')\n",
    "print(f'padded_X_val\\n{padded_X_val}')"
   ]
  },
  {
   "cell_type": "code",
   "execution_count": 17,
   "id": "69bcfb2a",
   "metadata": {},
   "outputs": [
    {
     "data": {
      "text/plain": [
       "((7000, 41), (3000, 41), (7000,), (3000,))"
      ]
     },
     "execution_count": 17,
     "metadata": {},
     "output_type": "execute_result"
    }
   ],
   "source": [
    "padded_X_train.shape, padded_X_val.shape, y_train.shape, y_val.shape"
   ]
  },
  {
   "cell_type": "code",
   "execution_count": 80,
   "id": "66daab9a",
   "metadata": {},
   "outputs": [
    {
     "name": "stderr",
     "output_type": "stream",
     "text": [
      "'ls' is not recognized as an internal or external command,\n",
      "operable program or batch file.\n"
     ]
    }
   ],
   "source": [
    "!ls models/glove.twitter.27B"
   ]
  },
  {
   "cell_type": "code",
   "execution_count": 18,
   "id": "09fe08c1",
   "metadata": {},
   "outputs": [],
   "source": [
    "glove_model_path = r'C:\\Users\\ANILHR\\Downloads\\glove.twitter.27B\\glove.twitter.27B.100d.txt'\n",
    "\n",
    "f = open(glove_model_path,'r')"
   ]
  },
  {
   "cell_type": "code",
   "execution_count": 19,
   "id": "3dc21439",
   "metadata": {},
   "outputs": [
    {
     "name": "stdout",
     "output_type": "stream",
     "text": [
      "Found 1193515 word vectors.\n"
     ]
    }
   ],
   "source": [
    "embeddings_index = {}\n",
    "f = open(r'C:\\Users\\ANILHR\\Downloads\\glove.twitter.27B\\glove.twitter.27B.50d.txt', encoding=\"utf8\")\n",
    "for line in f:\n",
    "    values = line.split()\n",
    "    word = values[0]\n",
    "    coefs = np.asarray(values[1:], dtype='float32')\n",
    "    embeddings_index[word] = coefs\n",
    "f.close()\n",
    "\n",
    "print('Found %s word vectors.' % len(embeddings_index))"
   ]
  },
  {
   "cell_type": "code",
   "execution_count": 20,
   "id": "6dbdaef3",
   "metadata": {},
   "outputs": [
    {
     "data": {
      "text/plain": [
       "(array([[ 0.        ,  0.        ,  0.        , ...,  0.        ,\n",
       "          0.        ,  0.        ],\n",
       "        [ 0.54084998,  0.96133   , -0.68097001, ..., -0.9709    ,\n",
       "         -0.57907999,  0.44661999],\n",
       "        [ 0.51418   , -0.19196001, -0.79962999, ..., -0.34937999,\n",
       "         -1.08060002,  0.60174   ],\n",
       "        ...,\n",
       "        [ 0.59193999, -0.17782   ,  0.20666   , ..., -0.29806   ,\n",
       "          0.14047   , -0.63893002],\n",
       "        [ 0.35242   , -0.25744   , -0.20263   , ...,  0.010393  ,\n",
       "         -0.59311002, -0.14812   ],\n",
       "        [-0.54620999,  1.44560003,  0.29674   , ...,  0.62761003,\n",
       "         -0.36403999,  0.10271   ]]),\n",
       " (4291, 50))"
      ]
     },
     "execution_count": 20,
     "metadata": {},
     "output_type": "execute_result"
    }
   ],
   "source": [
    "word_index = t.word_index\n",
    "EMBEDDING_DIM = 50 # Because we are using the 50D gloVe embeddings\n",
    "\n",
    "# Getting my embedding matrix\n",
    "embedding_matrix = np.zeros((len(word_index) + 1, EMBEDDING_DIM))\n",
    "for word, i in word_index.items():\n",
    "    embedding_vector = embeddings_index.get(word)\n",
    "    if embedding_vector is not None:\n",
    "        # words not found in embedding index will be all-zeros.\n",
    "        embedding_matrix[i] = embedding_vector\n",
    "embedding_matrix, embedding_matrix.shape"
   ]
  },
  {
   "cell_type": "code",
   "execution_count": 41,
   "id": "a1e1d1b5",
   "metadata": {},
   "outputs": [
    {
     "name": "stdout",
     "output_type": "stream",
     "text": [
      "Model: \"sequential_4\"\n",
      "_________________________________________________________________\n",
      " Layer (type)                Output Shape              Param #   \n",
      "=================================================================\n",
      " embedding_2 (Embedding)     (None, 41, 50)            214550    \n",
      "                                                                 \n",
      " bidirectional_2 (Bidirectio  (None, 256)              183296    \n",
      " nal)                                                            \n",
      "                                                                 \n",
      " dense_6 (Dense)             (None, 600)               154200    \n",
      "                                                                 \n",
      " dense_7 (Dense)             (None, 600)               360600    \n",
      "                                                                 \n",
      " dropout_2 (Dropout)         (None, 600)               0         \n",
      "                                                                 \n",
      " dense_8 (Dense)             (None, 10)                6010      \n",
      "                                                                 \n",
      "=================================================================\n",
      "Total params: 918,656\n",
      "Trainable params: 704,106\n",
      "Non-trainable params: 214,550\n",
      "_________________________________________________________________\n"
     ]
    }
   ],
   "source": [
    "def make_model(vocab_size, max_token_length):\n",
    "    ''' In this function I define all the layers of my neural network'''\n",
    "    # Initialize\n",
    "    model = Sequential()\n",
    "    #model.add(Input(shape = (32,), dtype = 'int32'))\n",
    "\n",
    "    # Adding layers - For embedding layer, I made sure to add my embedding matrix into the weights paramater\n",
    "    model.add(Embedding(vocab_size, embedding_matrix.shape[1], input_length = 41, \n",
    "                        trainable = False, weights = [embedding_matrix]))\n",
    "    \n",
    "    model.add(Bidirectional(LSTM(128)))\n",
    "#    model.add(LSTM(128)) \n",
    "    model.add(Dense(600, activation = \"relu\",kernel_regularizer ='l2')) # Try 50, another dense layer? This takes a little bit of exploration\n",
    "    \n",
    "    # Adding another dense layer to increase model complexity\n",
    "    model.add(Dense(600, activation = \"relu\",kernel_regularizer ='l2'))\n",
    "    \n",
    "    # Only update 50 percent of the nodes - helps with overfitting\n",
    "    model.add(Dropout(0.5))\n",
    "    \n",
    "    # This last layer should be the size of the number of your intents!\n",
    "    # Use sigmoid for multilabel classification, otherwise, use softmax!\n",
    "    model.add(Dense(10, activation = \"softmax\"))\n",
    "    \n",
    "    return model\n",
    "\n",
    "# Actually creating my model with 32 as the max token length\n",
    "model = make_model(vocab_size, 41)\n",
    "model.compile(loss = \"sparse_categorical_crossentropy\", \n",
    "              optimizer = \"adam\", metrics = [\"accuracy\"])\n",
    "model.summary()"
   ]
  },
  {
   "cell_type": "code",
   "execution_count": null,
   "id": "9a2885b3",
   "metadata": {},
   "outputs": [],
   "source": []
  },
  {
   "cell_type": "code",
   "execution_count": 42,
   "id": "d572b5df",
   "metadata": {
    "scrolled": false
   },
   "outputs": [
    {
     "name": "stdout",
     "output_type": "stream",
     "text": [
      "Epoch 1/20\n",
      "171/171 [==============================] - ETA: 0s - loss: 2.6796 - accuracy: 0.6940\n",
      "Epoch 1: val_loss improved from inf to 0.79141, saving model to intent_classification_b.h5\n",
      "171/171 [==============================] - 23s 99ms/step - loss: 2.6796 - accuracy: 0.6940 - val_loss: 0.7914 - val_accuracy: 0.8357 - lr: 0.0010\n",
      "Epoch 2/20\n",
      "171/171 [==============================] - ETA: 0s - loss: 0.6478 - accuracy: 0.8666\n",
      "Epoch 2: val_loss improved from 0.79141 to 0.58295, saving model to intent_classification_b.h5\n",
      "171/171 [==============================] - 15s 86ms/step - loss: 0.6478 - accuracy: 0.8666 - val_loss: 0.5830 - val_accuracy: 0.8653 - lr: 0.0010\n",
      "Epoch 3/20\n",
      "171/171 [==============================] - ETA: 0s - loss: 0.5356 - accuracy: 0.8774\n",
      "Epoch 3: val_loss improved from 0.58295 to 0.52720, saving model to intent_classification_b.h5\n",
      "171/171 [==============================] - 19s 112ms/step - loss: 0.5356 - accuracy: 0.8774 - val_loss: 0.5272 - val_accuracy: 0.8833 - lr: 0.0010\n",
      "Epoch 4/20\n",
      "171/171 [==============================] - ETA: 0s - loss: 0.5196 - accuracy: 0.8841\n",
      "Epoch 4: val_loss improved from 0.52720 to 0.51184, saving model to intent_classification_b.h5\n",
      "171/171 [==============================] - 19s 113ms/step - loss: 0.5196 - accuracy: 0.8841 - val_loss: 0.5118 - val_accuracy: 0.8703 - lr: 0.0010\n",
      "Epoch 5/20\n",
      "171/171 [==============================] - ETA: 0s - loss: 0.4616 - accuracy: 0.8960\n",
      "Epoch 5: val_loss improved from 0.51184 to 0.46189, saving model to intent_classification_b.h5\n",
      "171/171 [==============================] - 19s 110ms/step - loss: 0.4616 - accuracy: 0.8960 - val_loss: 0.4619 - val_accuracy: 0.8897 - lr: 0.0010\n",
      "Epoch 6/20\n",
      "171/171 [==============================] - ETA: 0s - loss: 0.4161 - accuracy: 0.9037\n",
      "Epoch 6: val_loss did not improve from 0.46189\n",
      "171/171 [==============================] - 19s 114ms/step - loss: 0.4161 - accuracy: 0.9037 - val_loss: 0.4629 - val_accuracy: 0.8820 - lr: 0.0010\n",
      "Epoch 7/20\n",
      "171/171 [==============================] - ETA: 0s - loss: 0.3802 - accuracy: 0.9117\n",
      "Epoch 7: val_loss improved from 0.46189 to 0.41962, saving model to intent_classification_b.h5\n",
      "171/171 [==============================] - 21s 122ms/step - loss: 0.3802 - accuracy: 0.9117 - val_loss: 0.4196 - val_accuracy: 0.8947 - lr: 0.0010\n",
      "Epoch 8/20\n",
      "171/171 [==============================] - ETA: 0s - loss: 0.3503 - accuracy: 0.9200\n",
      "Epoch 8: val_loss did not improve from 0.41962\n",
      "171/171 [==============================] - 20s 115ms/step - loss: 0.3503 - accuracy: 0.9200 - val_loss: 0.4299 - val_accuracy: 0.8973 - lr: 0.0010\n",
      "Epoch 9/20\n",
      "171/171 [==============================] - ETA: 0s - loss: 0.3239 - accuracy: 0.9271\n",
      "Epoch 9: val_loss did not improve from 0.41962\n",
      "171/171 [==============================] - 21s 120ms/step - loss: 0.3239 - accuracy: 0.9271 - val_loss: 0.4296 - val_accuracy: 0.8940 - lr: 0.0010\n",
      "Epoch 10/20\n",
      "171/171 [==============================] - ETA: 0s - loss: 0.2983 - accuracy: 0.9351\n",
      "Epoch 10: val_loss did not improve from 0.41962\n",
      "171/171 [==============================] - 20s 117ms/step - loss: 0.2983 - accuracy: 0.9351 - val_loss: 0.4229 - val_accuracy: 0.8887 - lr: 0.0010\n"
     ]
    }
   ],
   "source": [
    "filename = 'intent_classification_b.h5'\n",
    "\n",
    "def scheduler(epoch, lr):\n",
    "    if epoch < 10:\n",
    "        return lr\n",
    "    else:\n",
    "        return lr * tf.math.exp(-0.1)\n",
    "\n",
    "lr_sched_checkpoint = tf.keras.callbacks.LearningRateScheduler(scheduler)\n",
    "\n",
    "# Early stopping\n",
    "early_stopping = tf.keras.callbacks.EarlyStopping(\n",
    "    monitor='val_loss', min_delta=0, patience=3, verbose=0, mode='auto',\n",
    "    baseline=None, restore_best_weights=True\n",
    ")\n",
    "\n",
    "\n",
    "# This saves the best model\n",
    "checkpoint = ModelCheckpoint(filename, monitor='val_loss', verbose=1, \n",
    "                             save_best_only=True, mode='min')\n",
    "\n",
    "\n",
    "hist = model.fit(padded_X_train, y_train, epochs = 20, batch_size = 41, \n",
    "                 validation_data = (padded_X_val, y_val), \n",
    "                 callbacks = [checkpoint, lr_sched_checkpoint, early_stopping])"
   ]
  },
  {
   "cell_type": "code",
   "execution_count": 43,
   "id": "314247f4",
   "metadata": {},
   "outputs": [
    {
     "data": {
      "image/png": "[encoded data removed]",
      "text/plain": [
       "<Figure size 720x504 with 1 Axes>"
      ]
     },
     "metadata": {},
     "output_type": "display_data"
    },
    {
     "data": {
      "image/png": "[encoded data removed]",
      "text/plain": [
       "<Figure size 720x504 with 1 Axes>"
      ]
     },
     "metadata": {},
     "output_type": "display_data"
    }
   ],
   "source": [
    "plt.figure(figsize=(10,7))\n",
    "plt.plot(hist.history['val_loss'], label = 'Validation Loss', color = 'cyan')\n",
    "plt.plot(hist.history['loss'], label = 'Training Loss', color = 'purple')\n",
    "plt.title('Training Loss vs Validation Loss')\n",
    "plt.xlabel('Epochs')\n",
    "plt.ylabel('Loss')\n",
    "plt.legend()\n",
    "plt.show()\n",
    "\n",
    "# Visualizing Testing Accuracy vs Validation Accuracy\n",
    "plt.figure(figsize=(10,7))\n",
    "plt.plot(hist.history['val_accuracy'], label = 'Validation Accuracy', color = 'cyan')\n",
    "plt.plot(hist.history['accuracy'], label = 'Training Accuracy', color = 'purple')\n",
    "plt.title('Training Accuracy vs Validation Accuracy')\n",
    "plt.xlabel('Epochs')\n",
    "plt.ylabel('Accuracy')\n",
    "plt.legend()\n",
    "plt.show()"
   ]
  },
  {
   "cell_type": "code",
   "execution_count": 21,
   "id": "8b461d77",
   "metadata": {},
   "outputs": [],
   "source": [
    "from keras.models import load_model\n",
    "model = load_model('intent_classification_b.h5')"
   ]
  },
  {
   "cell_type": "code",
   "execution_count": 22,
   "id": "6d5bc967",
   "metadata": {},
   "outputs": [
    {
     "name": "stdout",
     "output_type": "stream",
     "text": [
      "2/2 [==============================] - 1s 7ms/step\n"
     ]
    }
   ],
   "source": [
    "user_input='battery drain after updating and able to use'\n",
    "padded_text = convert_to_padded(t, user_input)\n",
    "predictions2 = model.predict(padded_text)\n",
    "y = np.argmax(predictions2, axis=1)[:1]"
   ]
  },
  {
   "cell_type": "code",
   "execution_count": 23,
   "id": "855884ad",
   "metadata": {},
   "outputs": [],
   "source": [
    "def infer_intent(user_input):\n",
    "\n",
    "    assert isinstance(user_input, str)\n",
    "    user_input = [user_input]\n",
    "    padded_text = convert_to_padded(t, user_input)\n",
    "    \n",
    "    probs = model.predict(padded_text)\n",
    "\n",
    "    classes = ['battery', 'challenge_robot', 'forgot_password', 'goodbye', 'greeting', 'info',\n",
    "    'location', 'payment', 'speak_representative', 'update']\n",
    "    \n",
    "    \n",
    "    predictions = dict(zip(classes, probs[0]))\n",
    "    sorted_predictions = {k: v for k, v in sorted(predictions.items(), key=lambda item: item[1], reverse = True)}\n",
    "    res = list(sorted_predictions.keys())[0]\n",
    "    return res"
   ]
  },
  {
   "cell_type": "code",
   "execution_count": 24,
   "id": "56a59c46",
   "metadata": {},
   "outputs": [
    {
     "name": "stdout",
     "output_type": "stream",
     "text": [
      "1/1 [==============================] - 0s 27ms/step\n"
     ]
    },
    {
     "data": {
      "text/plain": [
       "'battery'"
      ]
     },
     "execution_count": 24,
     "metadata": {},
     "output_type": "execute_result"
    }
   ],
   "source": [
    "infer_intent(\"baatery drain after updating\")"
   ]
  },
  {
   "cell_type": "code",
   "execution_count": 25,
   "id": "9e62a1a3",
   "metadata": {},
   "outputs": [
    {
     "name": "stdout",
     "output_type": "stream",
     "text": [
      "1/1 [==============================] - 0s 26ms/step\n"
     ]
    },
    {
     "data": {
      "text/plain": [
       "'location'"
      ]
     },
     "execution_count": 25,
     "metadata": {},
     "output_type": "execute_result"
    }
   ],
   "source": [
    "infer_intent(\"Can you please locate a nearest apple store\")"
   ]
  },
  {
   "cell_type": "code",
   "execution_count": 26,
   "id": "791327ba",
   "metadata": {},
   "outputs": [
    {
     "name": "stdout",
     "output_type": "stream",
     "text": [
      "1/1 [==============================] - 0s 28ms/step\n"
     ]
    },
    {
     "data": {
      "text/plain": [
       "'payment'"
      ]
     },
     "execution_count": 26,
     "metadata": {},
     "output_type": "execute_result"
    }
   ],
   "source": [
    "infer_intent(\"When can I expect my refund on my apple iphone\")"
   ]
  },
  {
   "cell_type": "code",
   "execution_count": null,
   "id": "5c151fa9",
   "metadata": {},
   "outputs": [],
   "source": []
  }
 ],
 "metadata": {
  "kernelspec": {
   "display_name": "Python 3 (ipykernel)",
   "language": "python",
   "name": "python3"
  },
  "language_info": {
   "codemirror_mode": {
    "name": "ipython",
    "version": 3
   },
   "file_extension": ".py",
   "mimetype": "text/x-python",
   "name": "python",
   "nbconvert_exporter": "python",
   "pygments_lexer": "ipython3",
   "version": "3.9.16"
  }
 },
 "nbformat": 4,
 "nbformat_minor": 5
}
